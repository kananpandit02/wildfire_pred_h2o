{
 "cells": [
  {
   "cell_type": "code",
   "execution_count": 1,
   "id": "6f0efb3b-c5d1-40cc-beea-63a51eca467c",
   "metadata": {},
   "outputs": [],
   "source": [
    "import warnings\n",
    "warnings.filterwarnings(\"ignore\")\n",
    "import numpy as np\n",
    "import pandas as pd\n",
    "import matplotlib.pyplot as plt\n",
    "plt.style.use('ggplot')\n",
    "\n"
   ]
  },
  {
   "cell_type": "markdown",
   "id": "eea6e14d-d4bc-4481-af67-939e5c8a432f",
   "metadata": {},
   "source": [
    "## H2O Initialization"
   ]
  },
  {
   "cell_type": "code",
   "execution_count": 2,
   "id": "14edab18-734d-41e6-ad92-b1c1210e1921",
   "metadata": {},
   "outputs": [
    {
     "name": "stdout",
     "output_type": "stream",
     "text": [
      "Checking whether there is an H2O instance running at http://172.20.252.53:54323. connected.\n",
      "Warning: Your H2O cluster version is (4 months and 26 days) old.  There may be a newer version available.\n",
      "Please download and install the latest version from: https://h2o-release.s3.amazonaws.com/h2o/latest_stable.html\n"
     ]
    },
    {
     "data": {
      "text/html": [
       "\n",
       "<style>\n",
       "\n",
       "#h2o-table-1.h2o-container {\n",
       "  overflow-x: auto;\n",
       "}\n",
       "#h2o-table-1 .h2o-table {\n",
       "  /* width: 100%; */\n",
       "  margin-top: 1em;\n",
       "  margin-bottom: 1em;\n",
       "}\n",
       "#h2o-table-1 .h2o-table caption {\n",
       "  white-space: nowrap;\n",
       "  caption-side: top;\n",
       "  text-align: left;\n",
       "  /* margin-left: 1em; */\n",
       "  margin: 0;\n",
       "  font-size: larger;\n",
       "}\n",
       "#h2o-table-1 .h2o-table thead {\n",
       "  white-space: nowrap; \n",
       "  position: sticky;\n",
       "  top: 0;\n",
       "  box-shadow: 0 -1px inset;\n",
       "}\n",
       "#h2o-table-1 .h2o-table tbody {\n",
       "  overflow: auto;\n",
       "}\n",
       "#h2o-table-1 .h2o-table th,\n",
       "#h2o-table-1 .h2o-table td {\n",
       "  text-align: right;\n",
       "  /* border: 1px solid; */\n",
       "}\n",
       "#h2o-table-1 .h2o-table tr:nth-child(even) {\n",
       "  /* background: #F5F5F5 */\n",
       "}\n",
       "\n",
       "</style>      \n",
       "<div id=\"h2o-table-1\" class=\"h2o-container\">\n",
       "  <table class=\"h2o-table\">\n",
       "    <caption></caption>\n",
       "    <thead></thead>\n",
       "    <tbody><tr><td>H2O_cluster_uptime:</td>\n",
       "<td>22 secs</td></tr>\n",
       "<tr><td>H2O_cluster_timezone:</td>\n",
       "<td>Asia/Kolkata</td></tr>\n",
       "<tr><td>H2O_data_parsing_timezone:</td>\n",
       "<td>UTC</td></tr>\n",
       "<tr><td>H2O_cluster_version:</td>\n",
       "<td>3.46.0.6</td></tr>\n",
       "<tr><td>H2O_cluster_version_age:</td>\n",
       "<td>4 months and 26 days</td></tr>\n",
       "<tr><td>H2O_cluster_name:</td>\n",
       "<td>trial1</td></tr>\n",
       "<tr><td>H2O_cluster_total_nodes:</td>\n",
       "<td>2</td></tr>\n",
       "<tr><td>H2O_cluster_free_memory:</td>\n",
       "<td>4 Gb</td></tr>\n",
       "<tr><td>H2O_cluster_total_cores:</td>\n",
       "<td>8</td></tr>\n",
       "<tr><td>H2O_cluster_allowed_cores:</td>\n",
       "<td>8</td></tr>\n",
       "<tr><td>H2O_cluster_status:</td>\n",
       "<td>locked, healthy</td></tr>\n",
       "<tr><td>H2O_connection_url:</td>\n",
       "<td>http://172.20.252.53:54323</td></tr>\n",
       "<tr><td>H2O_connection_proxy:</td>\n",
       "<td>null</td></tr>\n",
       "<tr><td>H2O_internal_security:</td>\n",
       "<td>False</td></tr>\n",
       "<tr><td>Python_version:</td>\n",
       "<td>3.12.3 final</td></tr></tbody>\n",
       "  </table>\n",
       "</div>\n"
      ],
      "text/plain": [
       "--------------------------  --------------------------\n",
       "H2O_cluster_uptime:         22 secs\n",
       "H2O_cluster_timezone:       Asia/Kolkata\n",
       "H2O_data_parsing_timezone:  UTC\n",
       "H2O_cluster_version:        3.46.0.6\n",
       "H2O_cluster_version_age:    4 months and 26 days\n",
       "H2O_cluster_name:           trial1\n",
       "H2O_cluster_total_nodes:    2\n",
       "H2O_cluster_free_memory:    4 Gb\n",
       "H2O_cluster_total_cores:    8\n",
       "H2O_cluster_allowed_cores:  8\n",
       "H2O_cluster_status:         locked, healthy\n",
       "H2O_connection_url:         http://172.20.252.53:54323\n",
       "H2O_connection_proxy:       null\n",
       "H2O_internal_security:      False\n",
       "Python_version:             3.12.3 final\n",
       "--------------------------  --------------------------"
      ]
     },
     "metadata": {},
     "output_type": "display_data"
    },
    {
     "data": {
      "text/html": [
       "\n",
       "<style>\n",
       "\n",
       "#h2o-table-2.h2o-container {\n",
       "  overflow-x: auto;\n",
       "}\n",
       "#h2o-table-2 .h2o-table {\n",
       "  /* width: 100%; */\n",
       "  margin-top: 1em;\n",
       "  margin-bottom: 1em;\n",
       "}\n",
       "#h2o-table-2 .h2o-table caption {\n",
       "  white-space: nowrap;\n",
       "  caption-side: top;\n",
       "  text-align: left;\n",
       "  /* margin-left: 1em; */\n",
       "  margin: 0;\n",
       "  font-size: larger;\n",
       "}\n",
       "#h2o-table-2 .h2o-table thead {\n",
       "  white-space: nowrap; \n",
       "  position: sticky;\n",
       "  top: 0;\n",
       "  box-shadow: 0 -1px inset;\n",
       "}\n",
       "#h2o-table-2 .h2o-table tbody {\n",
       "  overflow: auto;\n",
       "}\n",
       "#h2o-table-2 .h2o-table th,\n",
       "#h2o-table-2 .h2o-table td {\n",
       "  text-align: right;\n",
       "  /* border: 1px solid; */\n",
       "}\n",
       "#h2o-table-2 .h2o-table tr:nth-child(even) {\n",
       "  /* background: #F5F5F5 */\n",
       "}\n",
       "\n",
       "</style>      \n",
       "<div id=\"h2o-table-2\" class=\"h2o-container\">\n",
       "  <table class=\"h2o-table\">\n",
       "    <caption></caption>\n",
       "    <thead></thead>\n",
       "    <tbody><tr><td>H2O_cluster_uptime:</td>\n",
       "<td>22 secs</td></tr>\n",
       "<tr><td>H2O_cluster_timezone:</td>\n",
       "<td>Asia/Kolkata</td></tr>\n",
       "<tr><td>H2O_data_parsing_timezone:</td>\n",
       "<td>UTC</td></tr>\n",
       "<tr><td>H2O_cluster_version:</td>\n",
       "<td>3.46.0.6</td></tr>\n",
       "<tr><td>H2O_cluster_version_age:</td>\n",
       "<td>4 months and 26 days</td></tr>\n",
       "<tr><td>H2O_cluster_name:</td>\n",
       "<td>trial1</td></tr>\n",
       "<tr><td>H2O_cluster_total_nodes:</td>\n",
       "<td>2</td></tr>\n",
       "<tr><td>H2O_cluster_free_memory:</td>\n",
       "<td>4 Gb</td></tr>\n",
       "<tr><td>H2O_cluster_total_cores:</td>\n",
       "<td>8</td></tr>\n",
       "<tr><td>H2O_cluster_allowed_cores:</td>\n",
       "<td>8</td></tr>\n",
       "<tr><td>H2O_cluster_status:</td>\n",
       "<td>locked, healthy</td></tr>\n",
       "<tr><td>H2O_connection_url:</td>\n",
       "<td>http://172.20.252.53:54323</td></tr>\n",
       "<tr><td>H2O_connection_proxy:</td>\n",
       "<td>null</td></tr>\n",
       "<tr><td>H2O_internal_security:</td>\n",
       "<td>False</td></tr>\n",
       "<tr><td>Python_version:</td>\n",
       "<td>3.12.3 final</td></tr></tbody>\n",
       "  </table>\n",
       "</div>\n"
      ],
      "text/plain": [
       "--------------------------  --------------------------\n",
       "H2O_cluster_uptime:         22 secs\n",
       "H2O_cluster_timezone:       Asia/Kolkata\n",
       "H2O_data_parsing_timezone:  UTC\n",
       "H2O_cluster_version:        3.46.0.6\n",
       "H2O_cluster_version_age:    4 months and 26 days\n",
       "H2O_cluster_name:           trial1\n",
       "H2O_cluster_total_nodes:    2\n",
       "H2O_cluster_free_memory:    4 Gb\n",
       "H2O_cluster_total_cores:    8\n",
       "H2O_cluster_allowed_cores:  8\n",
       "H2O_cluster_status:         locked, healthy\n",
       "H2O_connection_url:         http://172.20.252.53:54323\n",
       "H2O_connection_proxy:       null\n",
       "H2O_internal_security:      False\n",
       "Python_version:             3.12.3 final\n",
       "--------------------------  --------------------------"
      ]
     },
     "metadata": {},
     "output_type": "display_data"
    },
    {
     "data": {
      "text/html": [
       "\n",
       "<style>\n",
       "\n",
       "#h2o-table-3.h2o-container {\n",
       "  overflow-x: auto;\n",
       "}\n",
       "#h2o-table-3 .h2o-table {\n",
       "  /* width: 100%; */\n",
       "  margin-top: 1em;\n",
       "  margin-bottom: 1em;\n",
       "}\n",
       "#h2o-table-3 .h2o-table caption {\n",
       "  white-space: nowrap;\n",
       "  caption-side: top;\n",
       "  text-align: left;\n",
       "  /* margin-left: 1em; */\n",
       "  margin: 0;\n",
       "  font-size: larger;\n",
       "}\n",
       "#h2o-table-3 .h2o-table thead {\n",
       "  white-space: nowrap; \n",
       "  position: sticky;\n",
       "  top: 0;\n",
       "  box-shadow: 0 -1px inset;\n",
       "}\n",
       "#h2o-table-3 .h2o-table tbody {\n",
       "  overflow: auto;\n",
       "}\n",
       "#h2o-table-3 .h2o-table th,\n",
       "#h2o-table-3 .h2o-table td {\n",
       "  text-align: right;\n",
       "  /* border: 1px solid; */\n",
       "}\n",
       "#h2o-table-3 .h2o-table tr:nth-child(even) {\n",
       "  /* background: #F5F5F5 */\n",
       "}\n",
       "\n",
       "</style>      \n",
       "<div id=\"h2o-table-3\" class=\"h2o-container\">\n",
       "  <table class=\"h2o-table\">\n",
       "    <caption></caption>\n",
       "    <thead><tr><th>Nodes info:</th>\n",
       "<th>Node 1</th>\n",
       "<th>Node 2</th></tr></thead>\n",
       "    <tbody><tr><td>h2o</td>\n",
       "<td>172.20.252.53/172.20.252.53:54323</td>\n",
       "<td>172.20.252.58/172.20.252.58:54323</td></tr>\n",
       "<tr><td>healthy</td>\n",
       "<td>True</td>\n",
       "<td>True</td></tr>\n",
       "<tr><td>last_ping</td>\n",
       "<td>1743166334992.0000000</td>\n",
       "<td>1743166335410.0000000</td></tr>\n",
       "<tr><td>num_cpus</td>\n",
       "<td>4</td>\n",
       "<td>4</td></tr>\n",
       "<tr><td>sys_load</td>\n",
       "<td>1.0917969</td>\n",
       "<td>0.0249023</td></tr>\n",
       "<tr><td>mem_value_size</td>\n",
       "<td>0</td>\n",
       "<td>0</td></tr>\n",
       "<tr><td>free_mem</td>\n",
       "<td>2147483648.0000000</td>\n",
       "<td>2147483648.0000000</td></tr>\n",
       "<tr><td>pojo_mem</td>\n",
       "<td>0</td>\n",
       "<td>0</td></tr>\n",
       "<tr><td>swap_mem</td>\n",
       "<td>0</td>\n",
       "<td>0</td></tr>\n",
       "<tr><td>free_disk</td>\n",
       "<td>76464259072.0000000</td>\n",
       "<td>80194043904.0000000</td></tr>\n",
       "<tr><td>max_disk</td>\n",
       "<td>97828995072.0000000</td>\n",
       "<td>97828995072.0000000</td></tr>\n",
       "<tr><td>pid</td>\n",
       "<td>12743</td>\n",
       "<td>5004</td></tr>\n",
       "<tr><td>num_keys</td>\n",
       "<td>0</td>\n",
       "<td>0</td></tr>\n",
       "<tr><td>tcps_active</td>\n",
       "<td>0</td>\n",
       "<td>0</td></tr>\n",
       "<tr><td>open_fds</td>\n",
       "<td>30</td>\n",
       "<td>30</td></tr>\n",
       "<tr><td>rpcs_active</td>\n",
       "<td>0</td>\n",
       "<td>0</td></tr></tbody>\n",
       "  </table>\n",
       "</div>\n"
      ],
      "text/plain": [
       "Nodes info:     Node 1                             Node 2\n",
       "--------------  ---------------------------------  ---------------------------------\n",
       "h2o             172.20.252.53/172.20.252.53:54323  172.20.252.58/172.20.252.58:54323\n",
       "healthy         True                               True\n",
       "last_ping       1743166334992                      1743166335410\n",
       "num_cpus        4                                  4\n",
       "sys_load        1.0917969                          0.024902344\n",
       "mem_value_size  0                                  0\n",
       "free_mem        2147483648                         2147483648\n",
       "pojo_mem        0                                  0\n",
       "swap_mem        0                                  0\n",
       "free_disk       76464259072                        80194043904\n",
       "max_disk        97828995072                        97828995072\n",
       "pid             12743                              5004\n",
       "num_keys        0                                  0\n",
       "tcps_active     0                                  0\n",
       "open_fds        30                                 30\n",
       "rpcs_active     0                                  0"
      ]
     },
     "metadata": {},
     "output_type": "display_data"
    }
   ],
   "source": [
    "import h2o\n",
    "from h2o.frame import H2OFrame\n",
    "h2o.init(ip=\"172.20.252.53\", port=54323)\n",
    "#print(h2o.cluster_status())\n",
    "h2o.cluster().show_status(True)\n"
   ]
  },
  {
   "cell_type": "markdown",
   "id": "5989da25-8723-482b-b5f6-1d66abf3b5a6",
   "metadata": {},
   "source": [
    "## Dataset Load and read"
   ]
  },
  {
   "cell_type": "code",
   "execution_count": 3,
   "id": "f5618462-5be3-45d8-8421-fb8db7d188e6",
   "metadata": {},
   "outputs": [
    {
     "name": "stdout",
     "output_type": "stream",
     "text": [
      "Parse progress: |████████████████████████████████████████████████████████████████| (done) 100%\n"
     ]
    }
   ],
   "source": [
    "data = h2o.upload_file('/home/sysadm/Videos/H2O_cluster/Final_dataset/Wildfire_prediction.csv')\n"
   ]
  },
  {
   "cell_type": "code",
   "execution_count": 4,
   "id": "44871ee4-c90d-4bee-96f2-3e376e2c67ac",
   "metadata": {},
   "outputs": [
    {
     "data": {
      "text/html": [
       "<table class='dataframe'>\n",
       "<thead>\n",
       "<tr><th style=\"text-align: right;\">  latitude</th><th style=\"text-align: right;\">  longitude</th><th style=\"text-align: right;\">  bright_ti4</th><th style=\"text-align: right;\">  scan</th><th style=\"text-align: right;\">  track</th><th>acq_date           </th><th style=\"text-align: right;\">  acq_time</th><th>satellite  </th><th>instrument  </th><th>confidence  </th><th style=\"text-align: right;\">  version</th><th style=\"text-align: right;\">  bright_ti5</th><th style=\"text-align: right;\">  frp</th><th>daynight  </th><th style=\"text-align: right;\">  type</th></tr>\n",
       "</thead>\n",
       "<tbody>\n",
       "<tr><td style=\"text-align: right;\">  -17.8028</td><td style=\"text-align: right;\">    178.181</td><td style=\"text-align: right;\">      310.52</td><td style=\"text-align: right;\">  0.4 </td><td style=\"text-align: right;\">   0.37</td><td>2023-01-29 00:00:00</td><td style=\"text-align: right;\">      1317</td><td>N          </td><td>VIIRS       </td><td>n           </td><td style=\"text-align: right;\">        2</td><td style=\"text-align: right;\">      286.51</td><td style=\"text-align: right;\"> 0.88</td><td>N         </td><td style=\"text-align: right;\">     0</td></tr>\n",
       "<tr><td style=\"text-align: right;\">  -17.8062</td><td style=\"text-align: right;\">    178.181</td><td style=\"text-align: right;\">      302.32</td><td style=\"text-align: right;\">  0.4 </td><td style=\"text-align: right;\">   0.37</td><td>2023-01-29 00:00:00</td><td style=\"text-align: right;\">      1317</td><td>N          </td><td>VIIRS       </td><td>n           </td><td style=\"text-align: right;\">        2</td><td style=\"text-align: right;\">      286.54</td><td style=\"text-align: right;\"> 0.88</td><td>N         </td><td style=\"text-align: right;\">     0</td></tr>\n",
       "<tr><td style=\"text-align: right;\">  -17.9812</td><td style=\"text-align: right;\">   -179.05 </td><td style=\"text-align: right;\">      367   </td><td style=\"text-align: right;\">  0.35</td><td style=\"text-align: right;\">   0.57</td><td>2023-02-23 00:00:00</td><td style=\"text-align: right;\">        58</td><td>N          </td><td>VIIRS       </td><td>h           </td><td style=\"text-align: right;\">        2</td><td style=\"text-align: right;\">      291.06</td><td style=\"text-align: right;\">11.18</td><td>D         </td><td style=\"text-align: right;\">     0</td></tr>\n",
       "<tr><td style=\"text-align: right;\">  -17.9822</td><td style=\"text-align: right;\">   -179.051</td><td style=\"text-align: right;\">      367   </td><td style=\"text-align: right;\">  0.35</td><td style=\"text-align: right;\">   0.57</td><td>2023-02-23 00:00:00</td><td style=\"text-align: right;\">        58</td><td>N          </td><td>VIIRS       </td><td>h           </td><td style=\"text-align: right;\">        2</td><td style=\"text-align: right;\">      292.02</td><td style=\"text-align: right;\">10.9 </td><td>D         </td><td style=\"text-align: right;\">     0</td></tr>\n",
       "<tr><td style=\"text-align: right;\">  -18.072 </td><td style=\"text-align: right;\">    178.526</td><td style=\"text-align: right;\">      326.74</td><td style=\"text-align: right;\">  0.4 </td><td style=\"text-align: right;\">   0.6 </td><td>2023-02-28 00:00:00</td><td style=\"text-align: right;\">       104</td><td>N          </td><td>VIIRS       </td><td>n           </td><td style=\"text-align: right;\">        2</td><td style=\"text-align: right;\">      294.23</td><td style=\"text-align: right;\"> 3.07</td><td>D         </td><td style=\"text-align: right;\">     0</td></tr>\n",
       "<tr><td style=\"text-align: right;\">  -18.0741</td><td style=\"text-align: right;\">    178.528</td><td style=\"text-align: right;\">      326.56</td><td style=\"text-align: right;\">  0.4 </td><td style=\"text-align: right;\">   0.6 </td><td>2023-02-28 00:00:00</td><td style=\"text-align: right;\">       104</td><td>N          </td><td>VIIRS       </td><td>n           </td><td style=\"text-align: right;\">        2</td><td style=\"text-align: right;\">      293.46</td><td style=\"text-align: right;\"> 1.74</td><td>D         </td><td style=\"text-align: right;\">     0</td></tr>\n",
       "<tr><td style=\"text-align: right;\">  -17.385 </td><td style=\"text-align: right;\">    178.249</td><td style=\"text-align: right;\">      332.06</td><td style=\"text-align: right;\">  0.51</td><td style=\"text-align: right;\">   0.66</td><td>2023-03-11 00:00:00</td><td style=\"text-align: right;\">        58</td><td>N          </td><td>VIIRS       </td><td>n           </td><td style=\"text-align: right;\">        2</td><td style=\"text-align: right;\">      294.65</td><td style=\"text-align: right;\"> 5.46</td><td>D         </td><td style=\"text-align: right;\">     0</td></tr>\n",
       "<tr><td style=\"text-align: right;\">  -18.2095</td><td style=\"text-align: right;\">    178.186</td><td style=\"text-align: right;\">      333.79</td><td style=\"text-align: right;\">  0.4 </td><td style=\"text-align: right;\">   0.44</td><td>2023-04-03 00:00:00</td><td style=\"text-align: right;\">       207</td><td>N          </td><td>VIIRS       </td><td>n           </td><td style=\"text-align: right;\">        2</td><td style=\"text-align: right;\">      300.75</td><td style=\"text-align: right;\"> 2.31</td><td>D         </td><td style=\"text-align: right;\">     0</td></tr>\n",
       "<tr><td style=\"text-align: right;\">  -17.5634</td><td style=\"text-align: right;\">    177.687</td><td style=\"text-align: right;\">      327.36</td><td style=\"text-align: right;\">  0.35</td><td style=\"text-align: right;\">   0.56</td><td>2023-04-06 00:00:00</td><td style=\"text-align: right;\">       111</td><td>N          </td><td>VIIRS       </td><td>n           </td><td style=\"text-align: right;\">        2</td><td style=\"text-align: right;\">      297.05</td><td style=\"text-align: right;\"> 1.79</td><td>D         </td><td style=\"text-align: right;\">     0</td></tr>\n",
       "<tr><td style=\"text-align: right;\">  -17.4387</td><td style=\"text-align: right;\">    177.922</td><td style=\"text-align: right;\">      330.52</td><td style=\"text-align: right;\">  0.52</td><td style=\"text-align: right;\">   0.5 </td><td>2023-04-11 00:00:00</td><td style=\"text-align: right;\">       118</td><td>N          </td><td>VIIRS       </td><td>n           </td><td style=\"text-align: right;\">        2</td><td style=\"text-align: right;\">      299.09</td><td style=\"text-align: right;\"> 5.35</td><td>D         </td><td style=\"text-align: right;\">     0</td></tr>\n",
       "</tbody>\n",
       "</table><pre style='font-size: smaller; margin-bottom: 1em;'>[10 rows x 15 columns]</pre>"
      ],
      "text/plain": [
       "  latitude    longitude    bright_ti4    scan    track  acq_date               acq_time  satellite    instrument    confidence      version    bright_ti5    frp  daynight      type\n",
       "----------  -----------  ------------  ------  -------  -------------------  ----------  -----------  ------------  ------------  ---------  ------------  -----  ----------  ------\n",
       "  -17.8028      178.181        310.52    0.4      0.37  2023-01-29 00:00:00        1317  N            VIIRS         n                     2        286.51   0.88  N                0\n",
       "  -17.8062      178.181        302.32    0.4      0.37  2023-01-29 00:00:00        1317  N            VIIRS         n                     2        286.54   0.88  N                0\n",
       "  -17.9812     -179.05         367       0.35     0.57  2023-02-23 00:00:00          58  N            VIIRS         h                     2        291.06  11.18  D                0\n",
       "  -17.9822     -179.051        367       0.35     0.57  2023-02-23 00:00:00          58  N            VIIRS         h                     2        292.02  10.9   D                0\n",
       "  -18.072       178.526        326.74    0.4      0.6   2023-02-28 00:00:00         104  N            VIIRS         n                     2        294.23   3.07  D                0\n",
       "  -18.0741      178.528        326.56    0.4      0.6   2023-02-28 00:00:00         104  N            VIIRS         n                     2        293.46   1.74  D                0\n",
       "  -17.385       178.249        332.06    0.51     0.66  2023-03-11 00:00:00          58  N            VIIRS         n                     2        294.65   5.46  D                0\n",
       "  -18.2095      178.186        333.79    0.4      0.44  2023-04-03 00:00:00         207  N            VIIRS         n                     2        300.75   2.31  D                0\n",
       "  -17.5634      177.687        327.36    0.35     0.56  2023-04-06 00:00:00         111  N            VIIRS         n                     2        297.05   1.79  D                0\n",
       "  -17.4387      177.922        330.52    0.52     0.5   2023-04-11 00:00:00         118  N            VIIRS         n                     2        299.09   5.35  D                0\n",
       "[10 rows x 15 columns]\n"
      ]
     },
     "execution_count": 4,
     "metadata": {},
     "output_type": "execute_result"
    }
   ],
   "source": [
    "data.head(10)"
   ]
  },
  {
   "cell_type": "markdown",
   "id": "b780f511-8020-4c03-8815-f08eb97dc6f9",
   "metadata": {},
   "source": [
    "## EDA "
   ]
  },
  {
   "cell_type": "code",
   "execution_count": 5,
   "id": "ee177dee-6883-4bca-a0b6-1b4f869acb22",
   "metadata": {},
   "outputs": [
    {
     "data": {
      "text/html": [
       "<pre style='margin: 1em 0 1em 0;'>Rows:13521849\n",
       "Cols:15\n",
       "</pre>"
      ],
      "text/plain": [
       "Rows:13521849\n",
       "Cols:15\n"
      ]
     },
     "metadata": {},
     "output_type": "display_data"
    },
    {
     "data": {
      "text/html": [
       "<table class='dataframe'>\n",
       "<thead>\n",
       "<tr><th>       </th><th>latitude          </th><th>longitude         </th><th>bright_ti4       </th><th>scan               </th><th>track              </th><th>acq_date           </th><th>acq_time          </th><th>satellite  </th><th>instrument  </th><th>confidence  </th><th>version  </th><th>bright_ti5        </th><th>frp               </th><th>daynight  </th><th>type               </th></tr>\n",
       "</thead>\n",
       "<tbody>\n",
       "<tr><td>type   </td><td>real              </td><td>real              </td><td>real             </td><td>real               </td><td>real               </td><td>time               </td><td>int               </td><td>enum       </td><td>enum        </td><td>enum        </td><td>int      </td><td>real              </td><td>real              </td><td>enum      </td><td>int                </td></tr>\n",
       "<tr><td>mins   </td><td>-87.75106         </td><td>-179.84212        </td><td>0.0              </td><td>0.32               </td><td>0.36               </td><td>1672531200000.0    </td><td>0.0               </td><td>           </td><td>            </td><td>            </td><td>2.0      </td><td>0.0               </td><td>-1.9              </td><td>          </td><td>0.0                </td></tr>\n",
       "<tr><td>mean   </td><td>6.474494457373383 </td><td>15.985752139755427</td><td>334.2970608568397</td><td>0.46038372340942435</td><td>0.4819621746996287 </td><td>1689350675598.7585 </td><td>1205.3035681732579</td><td>           </td><td>            </td><td>            </td><td>2.0      </td><td>298.548311828508  </td><td>10.895091549240044</td><td>          </td><td>0.08671654298165886</td></tr>\n",
       "<tr><td>maxs   </td><td>72.03236          </td><td>179.99301         </td><td>367.0            </td><td>0.8                </td><td>0.78               </td><td>1703980800000.0    </td><td>2359.0            </td><td>           </td><td>            </td><td>            </td><td>2.0      </td><td>386.81            </td><td>12309.09          </td><td>          </td><td>3.0                </td></tr>\n",
       "<tr><td>sigma  </td><td>25.942427018681787</td><td>77.69936088445439 </td><td>18.38039488232789</td><td>0.08809581322516843</td><td>0.11614269378643148</td><td>8342890439.685541  </td><td>541.6652052610739 </td><td>           </td><td>            </td><td>            </td><td>0.0      </td><td>11.308123508757314</td><td>24.452161361904437</td><td>          </td><td>0.423479139779683  </td></tr>\n",
       "<tr><td>zeros  </td><td>0                 </td><td>0                 </td><td>3                </td><td>0                  </td><td>0                  </td><td>0                  </td><td>2831              </td><td>           </td><td>            </td><td>            </td><td>0        </td><td>28                </td><td>3192              </td><td>          </td><td>12961797           </td></tr>\n",
       "<tr><td>missing</td><td>0                 </td><td>0                 </td><td>0                </td><td>0                  </td><td>0                  </td><td>0                  </td><td>0                 </td><td>0          </td><td>0           </td><td>0           </td><td>0        </td><td>0                 </td><td>0                 </td><td>0         </td><td>0                  </td></tr>\n",
       "<tr><td>0      </td><td>-17.80281         </td><td>178.18121         </td><td>310.52           </td><td>0.4                </td><td>0.37               </td><td>2023-01-29 00:00:00</td><td>1317.0            </td><td>N          </td><td>VIIRS       </td><td>n           </td><td>2.0      </td><td>286.51            </td><td>0.88              </td><td>N         </td><td>0.0                </td></tr>\n",
       "<tr><td>1      </td><td>-17.80618         </td><td>178.1806          </td><td>302.32           </td><td>0.4                </td><td>0.37               </td><td>2023-01-29 00:00:00</td><td>1317.0            </td><td>N          </td><td>VIIRS       </td><td>n           </td><td>2.0      </td><td>286.54            </td><td>0.88              </td><td>N         </td><td>0.0                </td></tr>\n",
       "<tr><td>2      </td><td>-17.98124         </td><td>-179.04993        </td><td>367.0            </td><td>0.35               </td><td>0.57               </td><td>2023-02-23 00:00:00</td><td>58.0              </td><td>N          </td><td>VIIRS       </td><td>h           </td><td>2.0      </td><td>291.06            </td><td>11.18             </td><td>D         </td><td>0.0                </td></tr>\n",
       "<tr><td>3      </td><td>-17.9822          </td><td>-179.05077        </td><td>367.0            </td><td>0.35               </td><td>0.57               </td><td>2023-02-23 00:00:00</td><td>58.0              </td><td>N          </td><td>VIIRS       </td><td>h           </td><td>2.0      </td><td>292.02            </td><td>10.9              </td><td>D         </td><td>0.0                </td></tr>\n",
       "<tr><td>4      </td><td>-18.07195         </td><td>178.52623         </td><td>326.74           </td><td>0.4                </td><td>0.6                </td><td>2023-02-28 00:00:00</td><td>104.0             </td><td>N          </td><td>VIIRS       </td><td>n           </td><td>2.0      </td><td>294.23            </td><td>3.07              </td><td>D         </td><td>0.0                </td></tr>\n",
       "<tr><td>5      </td><td>-18.0741          </td><td>178.52805         </td><td>326.56           </td><td>0.4                </td><td>0.6                </td><td>2023-02-28 00:00:00</td><td>104.0             </td><td>N          </td><td>VIIRS       </td><td>n           </td><td>2.0      </td><td>293.46            </td><td>1.74              </td><td>D         </td><td>0.0                </td></tr>\n",
       "<tr><td>6      </td><td>-17.38497         </td><td>178.24867         </td><td>332.06           </td><td>0.51               </td><td>0.66               </td><td>2023-03-11 00:00:00</td><td>58.0              </td><td>N          </td><td>VIIRS       </td><td>n           </td><td>2.0      </td><td>294.65            </td><td>5.46              </td><td>D         </td><td>0.0                </td></tr>\n",
       "<tr><td>7      </td><td>-18.20948         </td><td>178.18558         </td><td>333.79           </td><td>0.4                </td><td>0.44               </td><td>2023-04-03 00:00:00</td><td>207.0             </td><td>N          </td><td>VIIRS       </td><td>n           </td><td>2.0      </td><td>300.75            </td><td>2.31              </td><td>D         </td><td>0.0                </td></tr>\n",
       "<tr><td>8      </td><td>-17.56342         </td><td>177.68727         </td><td>327.36           </td><td>0.35               </td><td>0.56               </td><td>2023-04-06 00:00:00</td><td>111.0             </td><td>N          </td><td>VIIRS       </td><td>n           </td><td>2.0      </td><td>297.05            </td><td>1.79              </td><td>D         </td><td>0.0                </td></tr>\n",
       "<tr><td>9      </td><td>-17.43874         </td><td>177.92188         </td><td>330.52           </td><td>0.52               </td><td>0.5                </td><td>2023-04-11 00:00:00</td><td>118.0             </td><td>N          </td><td>VIIRS       </td><td>n           </td><td>2.0      </td><td>299.09            </td><td>5.35              </td><td>D         </td><td>0.0                </td></tr>\n",
       "</tbody>\n",
       "</table><pre style='font-size: smaller; margin-bottom: 1em;'>[13521849 rows x 15 columns]</pre>"
      ],
      "text/plain": [
       "         latitude            longitude           bright_ti4         scan                 track                acq_date             acq_time            satellite    instrument    confidence    version    bright_ti5          frp                 daynight    type\n",
       "-------  ------------------  ------------------  -----------------  -------------------  -------------------  -------------------  ------------------  -----------  ------------  ------------  ---------  ------------------  ------------------  ----------  -------------------\n",
       "type     real                real                real               real                 real                 time                 int                 enum         enum          enum          int        real                real                enum        int\n",
       "mins     -87.75106           -179.84212          0.0                0.32                 0.36                 1672531200000.0      0.0                                                          2.0        0.0                 -1.9                            0.0\n",
       "mean     6.474494457373383   15.985752139755427  334.2970608568397  0.46038372340942435  0.4819621746996287   1689350675598.7585   1205.3035681732579                                           2.0        298.548311828508    10.895091549240044              0.08671654298165886\n",
       "maxs     72.03236            179.99301           367.0              0.8                  0.78                 1703980800000.0      2359.0                                                       2.0        386.81              12309.09                        3.0\n",
       "sigma    25.942427018681787  77.69936088445439   18.38039488232789  0.08809581322516843  0.11614269378643148  8342890439.685541    541.6652052610739                                            0.0        11.308123508757314  24.452161361904437              0.423479139779683\n",
       "zeros    0                   0                   3                  0                    0                    0                    2831                                                         0          28                  3192                            12961797\n",
       "missing  0                   0                   0                  0                    0                    0                    0                   0            0             0             0          0                   0                   0           0\n",
       "0        -17.80281           178.18121           310.52             0.4                  0.37                 2023-01-29 00:00:00  1317.0              N            VIIRS         n             2.0        286.51              0.88                N           0.0\n",
       "1        -17.80618           178.1806            302.32             0.4                  0.37                 2023-01-29 00:00:00  1317.0              N            VIIRS         n             2.0        286.54              0.88                N           0.0\n",
       "2        -17.98124           -179.04993          367.0              0.35                 0.57                 2023-02-23 00:00:00  58.0                N            VIIRS         h             2.0        291.06              11.18               D           0.0\n",
       "3        -17.9822            -179.05077          367.0              0.35                 0.57                 2023-02-23 00:00:00  58.0                N            VIIRS         h             2.0        292.02              10.9                D           0.0\n",
       "4        -18.07195           178.52623           326.74             0.4                  0.6                  2023-02-28 00:00:00  104.0               N            VIIRS         n             2.0        294.23              3.07                D           0.0\n",
       "5        -18.0741            178.52805           326.56             0.4                  0.6                  2023-02-28 00:00:00  104.0               N            VIIRS         n             2.0        293.46              1.74                D           0.0\n",
       "6        -17.38497           178.24867           332.06             0.51                 0.66                 2023-03-11 00:00:00  58.0                N            VIIRS         n             2.0        294.65              5.46                D           0.0\n",
       "7        -18.20948           178.18558           333.79             0.4                  0.44                 2023-04-03 00:00:00  207.0               N            VIIRS         n             2.0        300.75              2.31                D           0.0\n",
       "8        -17.56342           177.68727           327.36             0.35                 0.56                 2023-04-06 00:00:00  111.0               N            VIIRS         n             2.0        297.05              1.79                D           0.0\n",
       "9        -17.43874           177.92188           330.52             0.52                 0.5                  2023-04-11 00:00:00  118.0               N            VIIRS         n             2.0        299.09              5.35                D           0.0\n",
       "[13521849 rows x 15 columns]\n"
      ]
     },
     "metadata": {},
     "output_type": "display_data"
    }
   ],
   "source": [
    "data.describe()"
   ]
  },
  {
   "cell_type": "code",
   "execution_count": 6,
   "id": "c5704089-05db-4cf5-83a7-cc7d5e519d44",
   "metadata": {},
   "outputs": [
    {
     "data": {
      "text/plain": [
       "0.0"
      ]
     },
     "execution_count": 6,
     "metadata": {},
     "output_type": "execute_result"
    }
   ],
   "source": [
    "data.isna().sum()\n"
   ]
  },
  {
   "cell_type": "code",
   "execution_count": 7,
   "id": "d2467ca4-de03-42fc-ad43-ff01915e9086",
   "metadata": {},
   "outputs": [
    {
     "data": {
      "text/plain": [
       "{'latitude': 'real',\n",
       " 'longitude': 'real',\n",
       " 'bright_ti4': 'real',\n",
       " 'scan': 'real',\n",
       " 'track': 'real',\n",
       " 'acq_date': 'time',\n",
       " 'acq_time': 'int',\n",
       " 'satellite': 'enum',\n",
       " 'instrument': 'enum',\n",
       " 'confidence': 'enum',\n",
       " 'version': 'int',\n",
       " 'bright_ti5': 'real',\n",
       " 'frp': 'real',\n",
       " 'daynight': 'enum',\n",
       " 'type': 'int'}"
      ]
     },
     "execution_count": 7,
     "metadata": {},
     "output_type": "execute_result"
    }
   ],
   "source": [
    "data.types\n"
   ]
  },
  {
   "cell_type": "code",
   "execution_count": 8,
   "id": "9b9210e2-e4f8-4edc-8ef4-2581ffd3990a",
   "metadata": {},
   "outputs": [
    {
     "name": "stderr",
     "output_type": "stream",
     "text": [
      "/home/sysadm/Videos/H2O_cluster/env/lib/python3.12/site-packages/h2o/frame.py:1983: H2ODependencyWarning: Converting H2O frame to pandas dataframe using single-thread.  For faster conversion using multi-thread, install polars and pyarrow and use it as pandas_df = h2o_df.as_data_frame(use_multi_thread=True)\n",
      "\n",
      "  warnings.warn(\"Converting H2O frame to pandas dataframe using single-thread.  For faster conversion using\"\n"
     ]
    },
    {
     "data": {
      "text/html": [
       "<div>\n",
       "<style scoped>\n",
       "    .dataframe tbody tr th:only-of-type {\n",
       "        vertical-align: middle;\n",
       "    }\n",
       "\n",
       "    .dataframe tbody tr th {\n",
       "        vertical-align: top;\n",
       "    }\n",
       "\n",
       "    .dataframe thead th {\n",
       "        text-align: right;\n",
       "    }\n",
       "</style>\n",
       "<table border=\"1\" class=\"dataframe\">\n",
       "  <thead>\n",
       "    <tr style=\"text-align: right;\">\n",
       "      <th></th>\n",
       "      <th>latitude</th>\n",
       "      <th>longitude</th>\n",
       "      <th>bright_ti4</th>\n",
       "      <th>scan</th>\n",
       "      <th>track</th>\n",
       "      <th>acq_time</th>\n",
       "      <th>version</th>\n",
       "      <th>bright_ti5</th>\n",
       "      <th>frp</th>\n",
       "      <th>type</th>\n",
       "    </tr>\n",
       "  </thead>\n",
       "  <tbody>\n",
       "    <tr>\n",
       "      <th>0</th>\n",
       "      <td>1.000000</td>\n",
       "      <td>-0.468027</td>\n",
       "      <td>-0.203628</td>\n",
       "      <td>-0.021795</td>\n",
       "      <td>-0.042395</td>\n",
       "      <td>0.159948</td>\n",
       "      <td>NaN</td>\n",
       "      <td>-0.294280</td>\n",
       "      <td>0.002785</td>\n",
       "      <td>0.183630</td>\n",
       "    </tr>\n",
       "    <tr>\n",
       "      <th>1</th>\n",
       "      <td>-0.468027</td>\n",
       "      <td>1.000000</td>\n",
       "      <td>0.046576</td>\n",
       "      <td>0.013572</td>\n",
       "      <td>0.033463</td>\n",
       "      <td>-0.262635</td>\n",
       "      <td>NaN</td>\n",
       "      <td>0.163189</td>\n",
       "      <td>-0.053607</td>\n",
       "      <td>0.070407</td>\n",
       "    </tr>\n",
       "    <tr>\n",
       "      <th>2</th>\n",
       "      <td>-0.203628</td>\n",
       "      <td>0.046576</td>\n",
       "      <td>1.000000</td>\n",
       "      <td>-0.016222</td>\n",
       "      <td>0.062635</td>\n",
       "      <td>-0.032523</td>\n",
       "      <td>NaN</td>\n",
       "      <td>0.624698</td>\n",
       "      <td>0.284009</td>\n",
       "      <td>-0.176460</td>\n",
       "    </tr>\n",
       "    <tr>\n",
       "      <th>3</th>\n",
       "      <td>-0.021795</td>\n",
       "      <td>0.013572</td>\n",
       "      <td>-0.016222</td>\n",
       "      <td>1.000000</td>\n",
       "      <td>0.510542</td>\n",
       "      <td>0.006116</td>\n",
       "      <td>NaN</td>\n",
       "      <td>-0.090011</td>\n",
       "      <td>0.082803</td>\n",
       "      <td>0.009810</td>\n",
       "    </tr>\n",
       "    <tr>\n",
       "      <th>4</th>\n",
       "      <td>-0.042395</td>\n",
       "      <td>0.033463</td>\n",
       "      <td>0.062635</td>\n",
       "      <td>0.510542</td>\n",
       "      <td>1.000000</td>\n",
       "      <td>0.009437</td>\n",
       "      <td>NaN</td>\n",
       "      <td>-0.157762</td>\n",
       "      <td>0.054139</td>\n",
       "      <td>0.016048</td>\n",
       "    </tr>\n",
       "    <tr>\n",
       "      <th>5</th>\n",
       "      <td>0.159948</td>\n",
       "      <td>-0.262635</td>\n",
       "      <td>-0.032523</td>\n",
       "      <td>0.006116</td>\n",
       "      <td>0.009437</td>\n",
       "      <td>1.000000</td>\n",
       "      <td>NaN</td>\n",
       "      <td>-0.079804</td>\n",
       "      <td>0.050101</td>\n",
       "      <td>0.089573</td>\n",
       "    </tr>\n",
       "    <tr>\n",
       "      <th>6</th>\n",
       "      <td>NaN</td>\n",
       "      <td>NaN</td>\n",
       "      <td>NaN</td>\n",
       "      <td>NaN</td>\n",
       "      <td>NaN</td>\n",
       "      <td>NaN</td>\n",
       "      <td>NaN</td>\n",
       "      <td>NaN</td>\n",
       "      <td>NaN</td>\n",
       "      <td>NaN</td>\n",
       "    </tr>\n",
       "    <tr>\n",
       "      <th>7</th>\n",
       "      <td>-0.294280</td>\n",
       "      <td>0.163189</td>\n",
       "      <td>0.624698</td>\n",
       "      <td>-0.090011</td>\n",
       "      <td>-0.157762</td>\n",
       "      <td>-0.079804</td>\n",
       "      <td>NaN</td>\n",
       "      <td>1.000000</td>\n",
       "      <td>0.325164</td>\n",
       "      <td>-0.152223</td>\n",
       "    </tr>\n",
       "    <tr>\n",
       "      <th>8</th>\n",
       "      <td>0.002785</td>\n",
       "      <td>-0.053607</td>\n",
       "      <td>0.284009</td>\n",
       "      <td>0.082803</td>\n",
       "      <td>0.054139</td>\n",
       "      <td>0.050101</td>\n",
       "      <td>NaN</td>\n",
       "      <td>0.325164</td>\n",
       "      <td>1.000000</td>\n",
       "      <td>-0.058105</td>\n",
       "    </tr>\n",
       "    <tr>\n",
       "      <th>9</th>\n",
       "      <td>0.183630</td>\n",
       "      <td>0.070407</td>\n",
       "      <td>-0.176460</td>\n",
       "      <td>0.009810</td>\n",
       "      <td>0.016048</td>\n",
       "      <td>0.089573</td>\n",
       "      <td>NaN</td>\n",
       "      <td>-0.152223</td>\n",
       "      <td>-0.058105</td>\n",
       "      <td>1.000000</td>\n",
       "    </tr>\n",
       "  </tbody>\n",
       "</table>\n",
       "</div>"
      ],
      "text/plain": [
       "   latitude  longitude  bright_ti4      scan     track  acq_time  version  \\\n",
       "0  1.000000  -0.468027   -0.203628 -0.021795 -0.042395  0.159948      NaN   \n",
       "1 -0.468027   1.000000    0.046576  0.013572  0.033463 -0.262635      NaN   \n",
       "2 -0.203628   0.046576    1.000000 -0.016222  0.062635 -0.032523      NaN   \n",
       "3 -0.021795   0.013572   -0.016222  1.000000  0.510542  0.006116      NaN   \n",
       "4 -0.042395   0.033463    0.062635  0.510542  1.000000  0.009437      NaN   \n",
       "5  0.159948  -0.262635   -0.032523  0.006116  0.009437  1.000000      NaN   \n",
       "6       NaN        NaN         NaN       NaN       NaN       NaN      NaN   \n",
       "7 -0.294280   0.163189    0.624698 -0.090011 -0.157762 -0.079804      NaN   \n",
       "8  0.002785  -0.053607    0.284009  0.082803  0.054139  0.050101      NaN   \n",
       "9  0.183630   0.070407   -0.176460  0.009810  0.016048  0.089573      NaN   \n",
       "\n",
       "   bright_ti5       frp      type  \n",
       "0   -0.294280  0.002785  0.183630  \n",
       "1    0.163189 -0.053607  0.070407  \n",
       "2    0.624698  0.284009 -0.176460  \n",
       "3   -0.090011  0.082803  0.009810  \n",
       "4   -0.157762  0.054139  0.016048  \n",
       "5   -0.079804  0.050101  0.089573  \n",
       "6         NaN       NaN       NaN  \n",
       "7    1.000000  0.325164 -0.152223  \n",
       "8    0.325164  1.000000 -0.058105  \n",
       "9   -0.152223 -0.058105  1.000000  "
      ]
     },
     "execution_count": 8,
     "metadata": {},
     "output_type": "execute_result"
    }
   ],
   "source": [
    "num_cols = [col for col, dtype in data.types.items() if dtype in ['int', 'real']]\n",
    "cor = data[num_cols].cor()\n",
    "cor.as_data_frame()\n"
   ]
  },
  {
   "cell_type": "code",
   "execution_count": 9,
   "id": "442fccc4-8d76-461f-be74-d6a2bd2a22c7",
   "metadata": {},
   "outputs": [
    {
     "data": {
      "text/html": [
       "<table class='dataframe'>\n",
       "<thead>\n",
       "<tr><th style=\"text-align: right;\">  type</th><th style=\"text-align: right;\">           Count</th></tr>\n",
       "</thead>\n",
       "<tbody>\n",
       "<tr><td style=\"text-align: right;\">     0</td><td style=\"text-align: right;\">     1.29618e+07</td></tr>\n",
       "<tr><td style=\"text-align: right;\">     1</td><td style=\"text-align: right;\"> 12044          </td></tr>\n",
       "<tr><td style=\"text-align: right;\">     2</td><td style=\"text-align: right;\">483500          </td></tr>\n",
       "<tr><td style=\"text-align: right;\">     3</td><td style=\"text-align: right;\"> 64508          </td></tr>\n",
       "</tbody>\n",
       "</table><pre style='font-size: smaller; margin-bottom: 1em;'>[4 rows x 2 columns]</pre>"
      ],
      "text/plain": [
       "  type             Count\n",
       "------  ----------------\n",
       "     0       1.29618e+07\n",
       "     1   12044\n",
       "     2  483500\n",
       "     3   64508\n",
       "[4 rows x 2 columns]\n"
      ]
     },
     "execution_count": 9,
     "metadata": {},
     "output_type": "execute_result"
    }
   ],
   "source": [
    "data['type'].table()\n"
   ]
  },
  {
   "cell_type": "code",
   "execution_count": 10,
   "id": "6c68bda8-a101-48a0-8d8a-567f46b2357d",
   "metadata": {},
   "outputs": [
    {
     "data": {
      "text/html": [
       "<table class='dataframe'>\n",
       "<thead>\n",
       "<tr><th>confidence  </th><th style=\"text-align: right;\">           Count</th></tr>\n",
       "</thead>\n",
       "<tbody>\n",
       "<tr><td>h           </td><td style=\"text-align: right;\">849394          </td></tr>\n",
       "<tr><td>l           </td><td style=\"text-align: right;\">     1.35028e+06</td></tr>\n",
       "<tr><td>n           </td><td style=\"text-align: right;\">     1.13222e+07</td></tr>\n",
       "</tbody>\n",
       "</table><pre style='font-size: smaller; margin-bottom: 1em;'>[3 rows x 2 columns]</pre>"
      ],
      "text/plain": [
       "confidence               Count\n",
       "------------  ----------------\n",
       "h             849394\n",
       "l                  1.35028e+06\n",
       "n                  1.13222e+07\n",
       "[3 rows x 2 columns]\n"
      ]
     },
     "execution_count": 10,
     "metadata": {},
     "output_type": "execute_result"
    }
   ],
   "source": [
    "data['confidence'].table()\n"
   ]
  },
  {
   "cell_type": "code",
   "execution_count": 11,
   "id": "9b2b5cad-653d-465d-b14c-921b29106faf",
   "metadata": {},
   "outputs": [
    {
     "data": {
      "text/html": [
       "<table class='dataframe'>\n",
       "<thead>\n",
       "<tr><th>daynight  </th><th style=\"text-align: right;\">      Count</th></tr>\n",
       "</thead>\n",
       "<tbody>\n",
       "<tr><td>D         </td><td style=\"text-align: right;\">9.53544e+06</td></tr>\n",
       "<tr><td>N         </td><td style=\"text-align: right;\">3.98641e+06</td></tr>\n",
       "</tbody>\n",
       "</table><pre style='font-size: smaller; margin-bottom: 1em;'>[2 rows x 2 columns]</pre>"
      ],
      "text/plain": [
       "daynight          Count\n",
       "----------  -----------\n",
       "D           9.53544e+06\n",
       "N           3.98641e+06\n",
       "[2 rows x 2 columns]\n"
      ]
     },
     "execution_count": 11,
     "metadata": {},
     "output_type": "execute_result"
    }
   ],
   "source": [
    "data['daynight'].table()"
   ]
  },
  {
   "cell_type": "code",
   "execution_count": 12,
   "id": "6eb36ffb-6a97-41c5-b683-e73031dd3b5b",
   "metadata": {},
   "outputs": [
    {
     "name": "stderr",
     "output_type": "stream",
     "text": [
      "/home/sysadm/Videos/H2O_cluster/env/lib/python3.12/site-packages/h2o/frame.py:1983: H2ODependencyWarning: Converting H2O frame to pandas dataframe using single-thread.  For faster conversion using multi-thread, install polars and pyarrow and use it as pandas_df = h2o_df.as_data_frame(use_multi_thread=True)\n",
      "\n",
      "  warnings.warn(\"Converting H2O frame to pandas dataframe using single-thread.  For faster conversion using\"\n"
     ]
    },
    {
     "name": "stdout",
     "output_type": "stream",
     "text": [
      "confidence       h        l         n\n",
      "type                                 \n",
      "0           833360  1330443  10797994\n",
      "1              550      185     11309\n",
      "2            13080    18085    452335\n",
      "3             2404     1564     60540\n"
     ]
    }
   ],
   "source": [
    "data[\"type\"] = data[\"type\"].asfactor()\n",
    "data[\"confidence\"] = data[\"confidence\"].asfactor()\n",
    "\n",
    "# Group by 'type' and 'confidence', count the number of rows per group\n",
    "grouped = data.group_by([\"type\", \"confidence\"]).count()\n",
    "grouped_result = grouped.get_frame().as_data_frame()\n",
    "\n",
    "# Optional: Rename for clarity\n",
    "grouped_result.columns = ['type', 'confidence', 'count']\n",
    "\n",
    "# Now use pandas to create a crosstab\n",
    "import pandas as pd\n",
    "crosstab_result = pd.crosstab(index=grouped_result['type'], \n",
    "                              columns=grouped_result['confidence'], \n",
    "                              values=grouped_result['count'], \n",
    "                              aggfunc='sum', \n",
    "                              dropna=False).fillna(0)\n",
    "\n",
    "print(crosstab_result)\n",
    "\n"
   ]
  },
  {
   "cell_type": "code",
   "execution_count": 13,
   "id": "bbc3830b-be97-40b8-8a84-30dc1aff6fba",
   "metadata": {},
   "outputs": [
    {
     "name": "stderr",
     "output_type": "stream",
     "text": [
      "/home/sysadm/Videos/H2O_cluster/env/lib/python3.12/site-packages/h2o/frame.py:1983: H2ODependencyWarning: Converting H2O frame to pandas dataframe using single-thread.  For faster conversion using multi-thread, install polars and pyarrow and use it as pandas_df = h2o_df.as_data_frame(use_multi_thread=True)\n",
      "\n",
      "  warnings.warn(\"Converting H2O frame to pandas dataframe using single-thread.  For faster conversion using\"\n"
     ]
    },
    {
     "name": "stdout",
     "output_type": "stream",
     "text": [
      "Chi-squared Test p-value: 0.0\n",
      "Precise p-value: 0\n"
     ]
    }
   ],
   "source": [
    "import pandas as pd\n",
    "from scipy.stats import chi2_contingency\n",
    "\n",
    "# Take a sample and convert to pandas\n",
    "sample = data[[\"type\", \"confidence\"]].as_data_frame(use_pandas=True)\n",
    "cross_tab = pd.crosstab(sample[\"type\"], sample[\"confidence\"])\n",
    "\n",
    "chi2, p, dof, expected = chi2_contingency(cross_tab)\n",
    "print(\"Chi-squared Test p-value:\", p)\n",
    "import decimal\n",
    "decimal.getcontext().prec = 100\n",
    "print(\"Precise p-value:\", decimal.Decimal(p))\n"
   ]
  },
  {
   "cell_type": "markdown",
   "id": "b1122ff5-29fc-41cb-9199-401dd0fa007e",
   "metadata": {},
   "source": [
    "## Drop Columns"
   ]
  },
  {
   "cell_type": "code",
   "execution_count": 14,
   "id": "9a5a3664-28ca-4642-9f21-6c597d12346b",
   "metadata": {},
   "outputs": [],
   "source": [
    "columns_to_drop = ['acq_date', 'version', 'instrument', 'satellite']\n",
    "data = data.drop(columns_to_drop)"
   ]
  },
  {
   "cell_type": "code",
   "execution_count": 15,
   "id": "a128b4ff-d693-4ae7-95a8-eec65324def1",
   "metadata": {},
   "outputs": [
    {
     "data": {
      "text/html": [
       "<table class='dataframe'>\n",
       "<thead>\n",
       "<tr><th style=\"text-align: right;\">  latitude</th><th style=\"text-align: right;\">  longitude</th><th style=\"text-align: right;\">  bright_ti4</th><th style=\"text-align: right;\">  scan</th><th style=\"text-align: right;\">  track</th><th style=\"text-align: right;\">  acq_time</th><th>confidence  </th><th style=\"text-align: right;\">  bright_ti5</th><th style=\"text-align: right;\">  frp</th><th>daynight  </th><th style=\"text-align: right;\">  type</th></tr>\n",
       "</thead>\n",
       "<tbody>\n",
       "<tr><td style=\"text-align: right;\">  -17.8028</td><td style=\"text-align: right;\">    178.181</td><td style=\"text-align: right;\">      310.52</td><td style=\"text-align: right;\">  0.4 </td><td style=\"text-align: right;\">   0.37</td><td style=\"text-align: right;\">      1317</td><td>n           </td><td style=\"text-align: right;\">      286.51</td><td style=\"text-align: right;\"> 0.88</td><td>N         </td><td style=\"text-align: right;\">     0</td></tr>\n",
       "<tr><td style=\"text-align: right;\">  -17.8062</td><td style=\"text-align: right;\">    178.181</td><td style=\"text-align: right;\">      302.32</td><td style=\"text-align: right;\">  0.4 </td><td style=\"text-align: right;\">   0.37</td><td style=\"text-align: right;\">      1317</td><td>n           </td><td style=\"text-align: right;\">      286.54</td><td style=\"text-align: right;\"> 0.88</td><td>N         </td><td style=\"text-align: right;\">     0</td></tr>\n",
       "<tr><td style=\"text-align: right;\">  -17.9812</td><td style=\"text-align: right;\">   -179.05 </td><td style=\"text-align: right;\">      367   </td><td style=\"text-align: right;\">  0.35</td><td style=\"text-align: right;\">   0.57</td><td style=\"text-align: right;\">        58</td><td>h           </td><td style=\"text-align: right;\">      291.06</td><td style=\"text-align: right;\">11.18</td><td>D         </td><td style=\"text-align: right;\">     0</td></tr>\n",
       "<tr><td style=\"text-align: right;\">  -17.9822</td><td style=\"text-align: right;\">   -179.051</td><td style=\"text-align: right;\">      367   </td><td style=\"text-align: right;\">  0.35</td><td style=\"text-align: right;\">   0.57</td><td style=\"text-align: right;\">        58</td><td>h           </td><td style=\"text-align: right;\">      292.02</td><td style=\"text-align: right;\">10.9 </td><td>D         </td><td style=\"text-align: right;\">     0</td></tr>\n",
       "<tr><td style=\"text-align: right;\">  -18.072 </td><td style=\"text-align: right;\">    178.526</td><td style=\"text-align: right;\">      326.74</td><td style=\"text-align: right;\">  0.4 </td><td style=\"text-align: right;\">   0.6 </td><td style=\"text-align: right;\">       104</td><td>n           </td><td style=\"text-align: right;\">      294.23</td><td style=\"text-align: right;\"> 3.07</td><td>D         </td><td style=\"text-align: right;\">     0</td></tr>\n",
       "<tr><td style=\"text-align: right;\">  -18.0741</td><td style=\"text-align: right;\">    178.528</td><td style=\"text-align: right;\">      326.56</td><td style=\"text-align: right;\">  0.4 </td><td style=\"text-align: right;\">   0.6 </td><td style=\"text-align: right;\">       104</td><td>n           </td><td style=\"text-align: right;\">      293.46</td><td style=\"text-align: right;\"> 1.74</td><td>D         </td><td style=\"text-align: right;\">     0</td></tr>\n",
       "<tr><td style=\"text-align: right;\">  -17.385 </td><td style=\"text-align: right;\">    178.249</td><td style=\"text-align: right;\">      332.06</td><td style=\"text-align: right;\">  0.51</td><td style=\"text-align: right;\">   0.66</td><td style=\"text-align: right;\">        58</td><td>n           </td><td style=\"text-align: right;\">      294.65</td><td style=\"text-align: right;\"> 5.46</td><td>D         </td><td style=\"text-align: right;\">     0</td></tr>\n",
       "<tr><td style=\"text-align: right;\">  -18.2095</td><td style=\"text-align: right;\">    178.186</td><td style=\"text-align: right;\">      333.79</td><td style=\"text-align: right;\">  0.4 </td><td style=\"text-align: right;\">   0.44</td><td style=\"text-align: right;\">       207</td><td>n           </td><td style=\"text-align: right;\">      300.75</td><td style=\"text-align: right;\"> 2.31</td><td>D         </td><td style=\"text-align: right;\">     0</td></tr>\n",
       "<tr><td style=\"text-align: right;\">  -17.5634</td><td style=\"text-align: right;\">    177.687</td><td style=\"text-align: right;\">      327.36</td><td style=\"text-align: right;\">  0.35</td><td style=\"text-align: right;\">   0.56</td><td style=\"text-align: right;\">       111</td><td>n           </td><td style=\"text-align: right;\">      297.05</td><td style=\"text-align: right;\"> 1.79</td><td>D         </td><td style=\"text-align: right;\">     0</td></tr>\n",
       "<tr><td style=\"text-align: right;\">  -17.4387</td><td style=\"text-align: right;\">    177.922</td><td style=\"text-align: right;\">      330.52</td><td style=\"text-align: right;\">  0.52</td><td style=\"text-align: right;\">   0.5 </td><td style=\"text-align: right;\">       118</td><td>n           </td><td style=\"text-align: right;\">      299.09</td><td style=\"text-align: right;\"> 5.35</td><td>D         </td><td style=\"text-align: right;\">     0</td></tr>\n",
       "</tbody>\n",
       "</table><pre style='font-size: smaller; margin-bottom: 1em;'>[10 rows x 11 columns]</pre>"
      ],
      "text/plain": [
       "  latitude    longitude    bright_ti4    scan    track    acq_time  confidence      bright_ti5    frp  daynight      type\n",
       "----------  -----------  ------------  ------  -------  ----------  ------------  ------------  -----  ----------  ------\n",
       "  -17.8028      178.181        310.52    0.4      0.37        1317  n                   286.51   0.88  N                0\n",
       "  -17.8062      178.181        302.32    0.4      0.37        1317  n                   286.54   0.88  N                0\n",
       "  -17.9812     -179.05         367       0.35     0.57          58  h                   291.06  11.18  D                0\n",
       "  -17.9822     -179.051        367       0.35     0.57          58  h                   292.02  10.9   D                0\n",
       "  -18.072       178.526        326.74    0.4      0.6          104  n                   294.23   3.07  D                0\n",
       "  -18.0741      178.528        326.56    0.4      0.6          104  n                   293.46   1.74  D                0\n",
       "  -17.385       178.249        332.06    0.51     0.66          58  n                   294.65   5.46  D                0\n",
       "  -18.2095      178.186        333.79    0.4      0.44         207  n                   300.75   2.31  D                0\n",
       "  -17.5634      177.687        327.36    0.35     0.56         111  n                   297.05   1.79  D                0\n",
       "  -17.4387      177.922        330.52    0.52     0.5          118  n                   299.09   5.35  D                0\n",
       "[10 rows x 11 columns]\n"
      ]
     },
     "execution_count": 15,
     "metadata": {},
     "output_type": "execute_result"
    }
   ],
   "source": [
    "data.head(10)"
   ]
  },
  {
   "cell_type": "markdown",
   "id": "9822e813-cd7a-474d-a48c-77c42159a0a9",
   "metadata": {},
   "source": [
    "## Train, Validation and Test Dataset Split"
   ]
  },
  {
   "cell_type": "code",
   "execution_count": 16,
   "id": "45353452-d06d-4184-b6c9-db6293804a51",
   "metadata": {},
   "outputs": [
    {
     "name": "stdout",
     "output_type": "stream",
     "text": [
      "Train and Validation Dataset (11493651, 11)\n",
      "Test Dataset (2028198, 11)\n"
     ]
    }
   ],
   "source": [
    "# Convert to h2o dataframe\n",
    "hf = h2o.H2OFrame(data)\n",
    "hf['confidence'] = hf['confidence'].asfactor()\n",
    "train_valid, test = hf.split_frame(ratios=[0.85], seed=123)\n",
    "print(\"Train and Validation Dataset\", train_valid.shape)\n",
    "print(\"Test Dataset\", test.shape)"
   ]
  },
  {
   "cell_type": "code",
   "execution_count": 17,
   "id": "5505c921-a4cf-48aa-b1e5-fb3e4f098a8e",
   "metadata": {},
   "outputs": [
    {
     "name": "stdout",
     "output_type": "stream",
     "text": [
      "Train Dataset (9769726, 11)\n",
      "Validation Dataset (1723925, 11)\n"
     ]
    }
   ],
   "source": [
    "train, valid = train_valid.split_frame(ratios = [0.85], seed = 123)\n",
    "print(\"Train Dataset\", train.shape)\n",
    "print(\"Validation Dataset\", valid.shape)"
   ]
  },
  {
   "cell_type": "code",
   "execution_count": 18,
   "id": "04a507e9-fa74-41f0-9c32-817b57bcdd1d",
   "metadata": {},
   "outputs": [
    {
     "data": {
      "text/html": [
       "<table class='dataframe'>\n",
       "<thead>\n",
       "<tr><th style=\"text-align: right;\">  latitude</th><th style=\"text-align: right;\">  longitude</th><th style=\"text-align: right;\">  bright_ti4</th><th style=\"text-align: right;\">  scan</th><th style=\"text-align: right;\">  track</th><th style=\"text-align: right;\">  acq_time</th><th>confidence  </th><th style=\"text-align: right;\">  bright_ti5</th><th style=\"text-align: right;\">  frp</th><th>daynight  </th><th style=\"text-align: right;\">  type</th></tr>\n",
       "</thead>\n",
       "<tbody>\n",
       "<tr><td style=\"text-align: right;\">  -17.8028</td><td style=\"text-align: right;\">    178.181</td><td style=\"text-align: right;\">      310.52</td><td style=\"text-align: right;\">  0.4 </td><td style=\"text-align: right;\">   0.37</td><td style=\"text-align: right;\">      1317</td><td>n           </td><td style=\"text-align: right;\">      286.51</td><td style=\"text-align: right;\"> 0.88</td><td>N         </td><td style=\"text-align: right;\">     0</td></tr>\n",
       "<tr><td style=\"text-align: right;\">  -17.8062</td><td style=\"text-align: right;\">    178.181</td><td style=\"text-align: right;\">      302.32</td><td style=\"text-align: right;\">  0.4 </td><td style=\"text-align: right;\">   0.37</td><td style=\"text-align: right;\">      1317</td><td>n           </td><td style=\"text-align: right;\">      286.54</td><td style=\"text-align: right;\"> 0.88</td><td>N         </td><td style=\"text-align: right;\">     0</td></tr>\n",
       "<tr><td style=\"text-align: right;\">  -17.9812</td><td style=\"text-align: right;\">   -179.05 </td><td style=\"text-align: right;\">      367   </td><td style=\"text-align: right;\">  0.35</td><td style=\"text-align: right;\">   0.57</td><td style=\"text-align: right;\">        58</td><td>h           </td><td style=\"text-align: right;\">      291.06</td><td style=\"text-align: right;\">11.18</td><td>D         </td><td style=\"text-align: right;\">     0</td></tr>\n",
       "<tr><td style=\"text-align: right;\">  -17.9822</td><td style=\"text-align: right;\">   -179.051</td><td style=\"text-align: right;\">      367   </td><td style=\"text-align: right;\">  0.35</td><td style=\"text-align: right;\">   0.57</td><td style=\"text-align: right;\">        58</td><td>h           </td><td style=\"text-align: right;\">      292.02</td><td style=\"text-align: right;\">10.9 </td><td>D         </td><td style=\"text-align: right;\">     0</td></tr>\n",
       "<tr><td style=\"text-align: right;\">  -18.072 </td><td style=\"text-align: right;\">    178.526</td><td style=\"text-align: right;\">      326.74</td><td style=\"text-align: right;\">  0.4 </td><td style=\"text-align: right;\">   0.6 </td><td style=\"text-align: right;\">       104</td><td>n           </td><td style=\"text-align: right;\">      294.23</td><td style=\"text-align: right;\"> 3.07</td><td>D         </td><td style=\"text-align: right;\">     0</td></tr>\n",
       "</tbody>\n",
       "</table><pre style='font-size: smaller; margin-bottom: 1em;'>[5 rows x 11 columns]</pre>"
      ],
      "text/plain": [
       "  latitude    longitude    bright_ti4    scan    track    acq_time  confidence      bright_ti5    frp  daynight      type\n",
       "----------  -----------  ------------  ------  -------  ----------  ------------  ------------  -----  ----------  ------\n",
       "  -17.8028      178.181        310.52    0.4      0.37        1317  n                   286.51   0.88  N                0\n",
       "  -17.8062      178.181        302.32    0.4      0.37        1317  n                   286.54   0.88  N                0\n",
       "  -17.9812     -179.05         367       0.35     0.57          58  h                   291.06  11.18  D                0\n",
       "  -17.9822     -179.051        367       0.35     0.57          58  h                   292.02  10.9   D                0\n",
       "  -18.072       178.526        326.74    0.4      0.6          104  n                   294.23   3.07  D                0\n",
       "[5 rows x 11 columns]\n"
      ]
     },
     "execution_count": 18,
     "metadata": {},
     "output_type": "execute_result"
    }
   ],
   "source": [
    "train.head(5)"
   ]
  },
  {
   "cell_type": "code",
   "execution_count": 19,
   "id": "d90e697a-e0e5-4a7c-b6f4-126debb61785",
   "metadata": {},
   "outputs": [
    {
     "data": {
      "text/html": [
       "<table class='dataframe'>\n",
       "<thead>\n",
       "<tr><th style=\"text-align: right;\">  latitude</th><th style=\"text-align: right;\">  longitude</th><th style=\"text-align: right;\">  bright_ti4</th><th style=\"text-align: right;\">  scan</th><th style=\"text-align: right;\">  track</th><th style=\"text-align: right;\">  acq_time</th><th>confidence  </th><th style=\"text-align: right;\">  bright_ti5</th><th style=\"text-align: right;\">  frp</th><th>daynight  </th><th style=\"text-align: right;\">  type</th></tr>\n",
       "</thead>\n",
       "<tbody>\n",
       "<tr><td style=\"text-align: right;\">  -17.4356</td><td style=\"text-align: right;\">    177.924</td><td style=\"text-align: right;\">      327.86</td><td style=\"text-align: right;\">  0.52</td><td style=\"text-align: right;\">   0.5 </td><td style=\"text-align: right;\">       118</td><td>l           </td><td style=\"text-align: right;\">      298.11</td><td style=\"text-align: right;\"> 2.63</td><td>D         </td><td style=\"text-align: right;\">     0</td></tr>\n",
       "<tr><td style=\"text-align: right;\">  -17.4358</td><td style=\"text-align: right;\">    177.89 </td><td style=\"text-align: right;\">      302.81</td><td style=\"text-align: right;\">  0.73</td><td style=\"text-align: right;\">   0.76</td><td style=\"text-align: right;\">      1228</td><td>n           </td><td style=\"text-align: right;\">      291.44</td><td style=\"text-align: right;\"> 1.92</td><td>N         </td><td style=\"text-align: right;\">     0</td></tr>\n",
       "<tr><td style=\"text-align: right;\">  -17.9864</td><td style=\"text-align: right;\">    177.691</td><td style=\"text-align: right;\">      332.55</td><td style=\"text-align: right;\">  0.41</td><td style=\"text-align: right;\">   0.37</td><td style=\"text-align: right;\">       155</td><td>n           </td><td style=\"text-align: right;\">      300.7 </td><td style=\"text-align: right;\"> 2.08</td><td>D         </td><td style=\"text-align: right;\">     0</td></tr>\n",
       "<tr><td style=\"text-align: right;\">  -17.8937</td><td style=\"text-align: right;\">    177.39 </td><td style=\"text-align: right;\">      333.75</td><td style=\"text-align: right;\">  0.38</td><td style=\"text-align: right;\">   0.36</td><td style=\"text-align: right;\">       148</td><td>n           </td><td style=\"text-align: right;\">      296.91</td><td style=\"text-align: right;\"> 3.21</td><td>D         </td><td style=\"text-align: right;\">     0</td></tr>\n",
       "<tr><td style=\"text-align: right;\">  -17.8825</td><td style=\"text-align: right;\">    177.328</td><td style=\"text-align: right;\">      328.56</td><td style=\"text-align: right;\">  0.38</td><td style=\"text-align: right;\">   0.36</td><td style=\"text-align: right;\">       148</td><td>n           </td><td style=\"text-align: right;\">      298.94</td><td style=\"text-align: right;\"> 2.79</td><td>D         </td><td style=\"text-align: right;\">     0</td></tr>\n",
       "</tbody>\n",
       "</table><pre style='font-size: smaller; margin-bottom: 1em;'>[5 rows x 11 columns]</pre>"
      ],
      "text/plain": [
       "  latitude    longitude    bright_ti4    scan    track    acq_time  confidence      bright_ti5    frp  daynight      type\n",
       "----------  -----------  ------------  ------  -------  ----------  ------------  ------------  -----  ----------  ------\n",
       "  -17.4356      177.924        327.86    0.52     0.5          118  l                   298.11   2.63  D                0\n",
       "  -17.4358      177.89         302.81    0.73     0.76        1228  n                   291.44   1.92  N                0\n",
       "  -17.9864      177.691        332.55    0.41     0.37         155  n                   300.7    2.08  D                0\n",
       "  -17.8937      177.39         333.75    0.38     0.36         148  n                   296.91   3.21  D                0\n",
       "  -17.8825      177.328        328.56    0.38     0.36         148  n                   298.94   2.79  D                0\n",
       "[5 rows x 11 columns]\n"
      ]
     },
     "execution_count": 19,
     "metadata": {},
     "output_type": "execute_result"
    }
   ],
   "source": [
    "valid.head(5)"
   ]
  },
  {
   "cell_type": "markdown",
   "id": "9e308e56-9c86-4513-96e3-b9d3c1e2af8a",
   "metadata": {},
   "source": [
    "## Random Forest "
   ]
  },
  {
   "cell_type": "code",
   "execution_count": 20,
   "id": "4cf91197-f332-4a72-acc4-1170affc41b3",
   "metadata": {},
   "outputs": [
    {
     "name": "stdout",
     "output_type": "stream",
     "text": [
      "drf Model Build progress: |██████████████████████████████████████████████████████| (done) 100%\n"
     ]
    },
    {
     "data": {
      "text/html": [
       "\n",
       "<style>\n",
       "\n",
       "#h2o-table-4.h2o-container {\n",
       "  overflow-x: auto;\n",
       "}\n",
       "#h2o-table-4 .h2o-table {\n",
       "  /* width: 100%; */\n",
       "  margin-top: 1em;\n",
       "  margin-bottom: 1em;\n",
       "}\n",
       "#h2o-table-4 .h2o-table caption {\n",
       "  white-space: nowrap;\n",
       "  caption-side: top;\n",
       "  text-align: left;\n",
       "  /* margin-left: 1em; */\n",
       "  margin: 0;\n",
       "  font-size: larger;\n",
       "}\n",
       "#h2o-table-4 .h2o-table thead {\n",
       "  white-space: nowrap; \n",
       "  position: sticky;\n",
       "  top: 0;\n",
       "  box-shadow: 0 -1px inset;\n",
       "}\n",
       "#h2o-table-4 .h2o-table tbody {\n",
       "  overflow: auto;\n",
       "}\n",
       "#h2o-table-4 .h2o-table th,\n",
       "#h2o-table-4 .h2o-table td {\n",
       "  text-align: right;\n",
       "  /* border: 1px solid; */\n",
       "}\n",
       "#h2o-table-4 .h2o-table tr:nth-child(even) {\n",
       "  /* background: #F5F5F5 */\n",
       "}\n",
       "\n",
       "</style>      \n",
       "<div id=\"h2o-table-4\" class=\"h2o-container\">\n",
       "  <table class=\"h2o-table\">\n",
       "    <caption>Model Summary: </caption>\n",
       "    <thead><tr><th></th>\n",
       "<th>number_of_trees</th>\n",
       "<th>number_of_internal_trees</th>\n",
       "<th>model_size_in_bytes</th>\n",
       "<th>min_depth</th>\n",
       "<th>max_depth</th>\n",
       "<th>mean_depth</th>\n",
       "<th>min_leaves</th>\n",
       "<th>max_leaves</th>\n",
       "<th>mean_leaves</th></tr></thead>\n",
       "    <tbody><tr><td></td>\n",
       "<td>30.0</td>\n",
       "<td>90.0</td>\n",
       "<td>37829628.0000000</td>\n",
       "<td>20.0</td>\n",
       "<td>20.0</td>\n",
       "<td>20.0</td>\n",
       "<td>5715.0</td>\n",
       "<td>65731.0</td>\n",
       "<td>33488.555</td></tr></tbody>\n",
       "  </table>\n",
       "</div>\n"
      ],
      "text/plain": [
       "Model Summary: \n",
       "    number_of_trees    number_of_internal_trees    model_size_in_bytes    min_depth    max_depth    mean_depth    min_leaves    max_leaves    mean_leaves\n",
       "--  -----------------  --------------------------  ---------------------  -----------  -----------  ------------  ------------  ------------  -------------\n",
       "    30                 90                          3.78296e+07            20           20           20            5715          65731         33488.6"
      ]
     },
     "execution_count": 20,
     "metadata": {},
     "output_type": "execute_result"
    }
   ],
   "source": [
    "from h2o.estimators import H2ORandomForestEstimator\n",
    "\n",
    "x = [col for col in train.columns if col != 'confidence']\n",
    "y = 'confidence'\n",
    "\n",
    "rf_model = H2ORandomForestEstimator(ntrees= 30, max_depth= 20, seed= 1234)\n",
    "train[y] = train[y].asfactor()\n",
    "valid[y] = valid[y].asfactor()\n",
    "test[y] = test[y].asfactor()\n",
    "\n",
    "rf_model.train(x=x, y=y, training_frame=train, validation_frame=valid)\n",
    "rf_model.summary()\n",
    "\n"
   ]
  },
  {
   "cell_type": "code",
   "execution_count": 22,
   "id": "a84e5dbd-590e-47c9-a397-8a57ee7678c1",
   "metadata": {},
   "outputs": [
    {
     "name": "stdout",
     "output_type": "stream",
     "text": [
      "drf prediction progress: |███████████████████████████████████████████████████████| (done) 100%\n",
      "ModelMetricsMultinomial: drf\n",
      "** Reported on test data. **\n",
      "\n",
      "MSE: 0.02964393526220281\n",
      "RMSE: 0.17217414225778158\n",
      "LogLoss: 0.09617963255437362\n",
      "Mean Per-Class Error: 0.0700651495947615\n",
      "AUC table was not computed: it is either disabled (model parameter 'auc_type' was set to AUTO or NONE) or the domain size exceeds the limit (maximum is 50 domains).\n",
      "AUCPR table was not computed: it is either disabled (model parameter 'auc_type' was set to AUTO or NONE) or the domain size exceeds the limit (maximum is 50 domains).\n",
      "\n",
      "Confusion Matrix: Row labels: Actual class; Column labels: Predicted class\n",
      "h       l       n            Error      Rate\n",
      "------  ------  -----------  ---------  ------------------\n",
      "123949  3685    0            0.0288716  3,685 / 127,634\n",
      "2604    171499  27923        0.151104   30,527 / 202,026\n",
      "0       51329   1.64721e+06  0.0302195  51,329 / 1,698,538\n",
      "126553  226513  1.67513e+06  0.0421759  85,541 / 2,028,198\n",
      "\n",
      "Top-3 Hit Ratios: \n",
      "k    hit_ratio\n",
      "---  -----------\n",
      "1    0.957824\n",
      "2    0.999993\n",
      "3    1\n",
      "NaN\n",
      "0.17217414225778158\n"
     ]
    }
   ],
   "source": [
    "# Make predictions on the test set\n",
    "predictions = rf_model.predict(test)\n",
    "\n",
    "# Get model performance\n",
    "performance = rf_model.model_performance(test)\n",
    "print(performance)\n",
    "\n",
    "# Print detailed performance metrics\n",
    "print(performance.auc())\n",
    "print(performance.rmse())"
   ]
  },
  {
   "cell_type": "code",
   "execution_count": null,
   "id": "57964a7d-6cc7-40e3-90db-51ef7252bb1c",
   "metadata": {},
   "outputs": [],
   "source": []
  }
 ],
 "metadata": {
  "kernelspec": {
   "display_name": "Python 3 (ipykernel)",
   "language": "python",
   "name": "python3"
  },
  "language_info": {
   "codemirror_mode": {
    "name": "ipython",
    "version": 3
   },
   "file_extension": ".py",
   "mimetype": "text/x-python",
   "name": "python",
   "nbconvert_exporter": "python",
   "pygments_lexer": "ipython3",
   "version": "3.12.3"
  }
 },
 "nbformat": 4,
 "nbformat_minor": 5
}
